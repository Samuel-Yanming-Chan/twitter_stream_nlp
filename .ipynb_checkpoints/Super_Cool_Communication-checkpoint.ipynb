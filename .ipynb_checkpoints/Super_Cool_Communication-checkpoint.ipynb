{
 "cells": [
  {
   "cell_type": "code",
   "execution_count": 12,
   "metadata": {},
   "outputs": [],
   "source": [
    "%matplotlib inline\n",
    "import os\n",
    "import json\n",
    "from pprint import pprint\n",
    "import matplotlib.pyplot as plt\n",
    "\n",
    "from twython import TwythonStreamer"
   ]
  },
  {
   "cell_type": "code",
   "execution_count": 5,
   "metadata": {},
   "outputs": [],
   "source": [
    "# Import Gene's TwythonStreamer \n",
    "\n",
    "# Acknowledgement: This code is adopted from the book \"Data Science from Scratch\"\n",
    "# https://github.com/joelgrus/data-science-from-scratch/tree/master/first-edition\n",
    "class MyStreamer(TwythonStreamer):\n",
    "\n",
    "    # by default, this module will collect 1000 tweets\n",
    "    target_tweet_count = 1000\n",
    "    \n",
    "    # overriding\n",
    "    def on_success(self, data):\n",
    "        if 'text' in data:      # check if the received data has key 'text'\n",
    "            tweets.append(data) # append data to our list\n",
    "            \n",
    "        if len(tweets) % 100 == 1:\n",
    "            print('\\nNow we collected {} tweets!'.format(len(tweets)))\n",
    "            print(len(tweets), data['text'])    # print the tweet text\n",
    "\n",
    "        if len(tweets) >= self.target_tweet_count:  # if we have 1000 tweets\n",
    "            self.disconnect()   # disconnect API connection using a method from TwythonStreamer\n",
    "\n",
    "    # overriding\n",
    "    def on_error(self, status_code, data):\n",
    "        print(status_code)\n",
    "        self.disconnect()\n",
    "\n",
    "# global list to collect the tweets\n",
    "tweets = []       \n",
    "\n",
    "def collect_tweets(stream, keyword, count):\n",
    "    global tweets\n",
    "    tweets = [] # re-initialize tweets list\n",
    "    stream.target_tweet_count = count\n",
    "    stream.statuses.filter(track=keyword)\n",
    "    return tweets\n"
   ]
  },
  {
   "cell_type": "markdown",
   "metadata": {},
   "source": [
    "## Create Stream"
   ]
  },
  {
   "cell_type": "code",
   "execution_count": 27,
   "metadata": {},
   "outputs": [],
   "source": [
    "#Import credentials from env vars\n",
    "consumer_key = str(os.environ['consumer_key'])\n",
    "consumer_secret = str(os.environ['consumer_secret'])\n",
    "access_token = str(os.environ['access_token'])\n",
    "access_token_secret = str(os.environ['access_token_secret'])"
   ]
  },
  {
   "cell_type": "code",
   "execution_count": 29,
   "metadata": {},
   "outputs": [
    {
     "name": "stdout",
     "output_type": "stream",
     "text": [
      "<__main__.MyStreamer object at 0x000001DA191F2128>\n"
     ]
    }
   ],
   "source": [
    "#Create Stream\n",
    "stream = MyStreamer(consumer_key, consumer_secret, access_token, access_token_secret)\n",
    "print(stream)"
   ]
  },
  {
   "cell_type": "markdown",
   "metadata": {},
   "source": []
  },
  {
   "cell_type": "code",
   "execution_count": null,
   "metadata": {},
   "outputs": [],
   "source": [
    "keyword = 'Boris Johnson'\n",
    "#keyword = ''\n",
    "print('My keywords is ' + keyword)"
   ]
  }
 ],
 "metadata": {
  "kernelspec": {
   "display_name": "Python 3",
   "language": "python",
   "name": "python3"
  },
  "language_info": {
   "codemirror_mode": {
    "name": "ipython",
    "version": 3
   },
   "file_extension": ".py",
   "mimetype": "text/x-python",
   "name": "python",
   "nbconvert_exporter": "python",
   "pygments_lexer": "ipython3",
   "version": "3.7.0"
  }
 },
 "nbformat": 4,
 "nbformat_minor": 2
}
