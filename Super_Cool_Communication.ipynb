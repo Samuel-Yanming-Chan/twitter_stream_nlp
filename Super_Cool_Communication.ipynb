{
 "cells": [
  {
   "cell_type": "code",
   "execution_count": 37,
   "metadata": {},
   "outputs": [],
   "source": [
    "%matplotlib inline\n",
    "import os\n",
    "import json\n",
    "from pprint import pprint\n",
    "import matplotlib.pyplot as plt\n",
    "\n",
    "from twython import TwythonStreamer\n",
    "from collections import Counter\n",
    "\n",
    "import string\n",
    "import nltk"
   ]
  },
  {
   "cell_type": "code",
   "execution_count": 352,
   "metadata": {},
   "outputs": [],
   "source": [
    "# Set trans table for NLP\n",
    "puncs = string.punctuation\n",
    "dgts = string.digits\n",
    "table_p = str.maketrans(puncs, len(puncs) * \" \")\n",
    "\n",
    "# Create stopword Dict\n",
    "stopwords = nltk.corpus.stopwords.words('english')\n",
    "stopwords.append('rt')"
   ]
  },
  {
   "cell_type": "code",
   "execution_count": 39,
   "metadata": {},
   "outputs": [],
   "source": [
    "# Import Gene's TwythonStreamer \n",
    "\n",
    "# Acknowledgement: This code is adopted from the book \"Data Science from Scratch\"\n",
    "# https://github.com/joelgrus/data-science-from-scratch/tree/master/first-edition\n",
    "class MyStreamer(TwythonStreamer):\n",
    "\n",
    "    # by default, this module will collect 1000 tweets\n",
    "    target_tweet_count = 1000\n",
    "    \n",
    "    # overriding\n",
    "    def on_success(self, data):\n",
    "        if 'text' in data:      # check if the received data has key 'text'\n",
    "            tweets.append(data) # append data to our list\n",
    "            \n",
    "        if len(tweets) % 100 == 1:\n",
    "            print('\\nNow we collected {} tweets!'.format(len(tweets)))\n",
    "            print(len(tweets), data['text'])    # print the tweet text\n",
    "\n",
    "        if len(tweets) >= self.target_tweet_count:  # if we have 1000 tweets\n",
    "            self.disconnect()   # disconnect API connection using a method from TwythonStreamer\n",
    "\n",
    "    # overriding\n",
    "    def on_error(self, status_code, data):\n",
    "        print(status_code)\n",
    "        self.disconnect()\n",
    "\n",
    "# global list to collect the tweets\n",
    "tweets = []       \n",
    "\n",
    "def collect_tweets(stream, keyword, count):\n",
    "    global tweets\n",
    "    tweets = [] # re-initialize tweets list\n",
    "    stream.target_tweet_count = count\n",
    "    stream.statuses.filter(track=keyword)\n",
    "    return tweets\n"
   ]
  },
  {
   "cell_type": "markdown",
   "metadata": {},
   "source": [
    "## Create Stream"
   ]
  },
  {
   "cell_type": "code",
   "execution_count": 6,
   "metadata": {},
   "outputs": [],
   "source": [
    "#Import credentials from env vars\n",
    "consumer_key = str(os.environ['twit_consumer_key'])\n",
    "consumer_secret = str(os.environ['twit_consumer_secret'])\n",
    "access_token = str(os.environ['twit_access_token'])\n",
    "access_token_secret = str(os.environ['twit_access_token_secret'])"
   ]
  },
  {
   "cell_type": "code",
   "execution_count": 7,
   "metadata": {},
   "outputs": [
    {
     "name": "stdout",
     "output_type": "stream",
     "text": [
      "<__main__.MyStreamer object at 0x000001F1285C7160>\n"
     ]
    }
   ],
   "source": [
    "#Create Stream\n",
    "stream = MyStreamer(consumer_key, consumer_secret, access_token, access_token_secret)\n",
    "print(stream)"
   ]
  },
  {
   "cell_type": "code",
   "execution_count": null,
   "metadata": {},
   "outputs": [],
   "source": [
    "# keyword = 'Boris Johnson'\n",
    "# #keyword = ''\n",
    "# print('My keywords is ' + keyword)"
   ]
  },
  {
   "cell_type": "code",
   "execution_count": null,
   "metadata": {},
   "outputs": [],
   "source": [
    "# start collecting 5000 tweets with keyword\n",
    "# tweets = collect_tweets(stream, keyword, 5000)\n",
    "# print(len(tweets), 'tweets are collected')"
   ]
  },
  {
   "cell_type": "code",
   "execution_count": null,
   "metadata": {},
   "outputs": [],
   "source": [
    "# with open('tweet_stream_{}_{}.json'.format(keyword, len(tweets)), 'w') as outfile:\n",
    "#     json.dump(tweets, outfile, indent=4)"
   ]
  },
  {
   "cell_type": "code",
   "execution_count": 8,
   "metadata": {},
   "outputs": [
    {
     "name": "stdout",
     "output_type": "stream",
     "text": [
      "My keywords is Brexit\n"
     ]
    }
   ],
   "source": [
    "keyword = 'Brexit'\n",
    "#keyword = ''\n",
    "print('My keywords is ' + keyword)"
   ]
  },
  {
   "cell_type": "code",
   "execution_count": 9,
   "metadata": {},
   "outputs": [
    {
     "name": "stdout",
     "output_type": "stream",
     "text": [
      "\n",
      "Now we collected 1 tweets!\n",
      "1 RT @nickreeves9876: If Brexit happens it will be the first time in over 300 years that a hostile foreign power has successfully manipulated…\n",
      "\n",
      "Now we collected 101 tweets!\n",
      "101 RT @ActionWalsall: I was pretty ambivalent about EU until Brexit fever started, I’m fully in favour of remaining at the top table and tryin…\n",
      "\n",
      "Now we collected 201 tweets!\n",
      "201 RT @nyeannebevan: Now this is an interesting little article from the brilliant @skwawkbox back in February...about (ahem) *Opinium* CEO Jam…\n",
      "\n",
      "Now we collected 301 tweets!\n",
      "301 @BrookMatthew Hi, just a reminder that Brexit has not happened yet. It is due to occur on the 29th March 2019\n",
      "\n",
      "Now we collected 401 tweets!\n",
      "401 RT @grahambsi: For heavens sake @UKLabour and @LibDems voters get over yourselves. Vote tactically or have years to regret it in Brexit Bri…\n",
      "\n",
      "Now we collected 501 tweets!\n",
      "501 RT @jeremycorbyn: As Prime Minister, I will be an honest broker and not campaign for either side in the final say referendum. We will negot…\n",
      "\n",
      "Now we collected 601 tweets!\n",
      "601 RT @TheDA_UK: Dr David Nicholl @djnicholl is a consultant neurologist who spoke up on the shortages of vital medications with a no-deal Bre…\n",
      "\n",
      "Now we collected 701 tweets!\n",
      "701 RT @OwenJones84: If you’re voting for the Lib Dems in a Labour-Tory marginal now, you might as well vote for Boris Johnson, Hard Brexit and…\n",
      "\n",
      "Now we collected 801 tweets!\n",
      "801 RT @HackedOffHugh: I feel I need to retweet my own retweet.  The Americans can see clearly what’s happening here.  Johnson is Putin’s asset…\n",
      "\n",
      "Now we collected 901 tweets!\n",
      "901 RT @SadiqKhan: Londoners face a choice between Boris Johnson's Brexit-backing, austerity loving Tory Party and Labour - who will give the p…\n",
      "\n",
      "Now we collected 1001 tweets!\n",
      "1001 RT @charlievg77: Anyone with lingering doubts about #Russia interference in #brexit should watch this. Laid bare by US authorities. @TheAnd…\n",
      "\n",
      "Now we collected 1101 tweets!\n",
      "1101 RT @EmmaKennedy: I am BEGGING you Labour, there are around 60 seats across SE where the only contenders are the LDs. \n",
      "\n",
      "PLEASE urge your sup…\n",
      "\n",
      "Now we collected 1201 tweets!\n",
      "1201 RT @meadwaj: Trust No Polls. This, categorically, is an outlier, at odds with any other evidence we have. Two million registrations to vote…\n",
      "\n",
      "Now we collected 1301 tweets!\n",
      "1301 What a surprise....\n",
      "\n",
      "Question Time audience member who defended Corbyn over Brexit is Labour communications officer… https://t.co/e3PIFqfknN\n",
      "\n",
      "Now we collected 1401 tweets!\n",
      "1401 RT @nealerichmond: Sorry Eddie from Doncaster, not how democracy works. https://t.co/CyFnKSn3pk\n",
      "\n",
      "Now we collected 1501 tweets!\n",
      "1501 RT @ScotsLindaT: Absolutely! I fancied a glass of wine tonight but can’t decide on red or white... what would Jeremy advise? He-e-e-lp!!!!…\n",
      "\n",
      "Now we collected 1601 tweets!\n",
      "1601 @LibDems @joswinson You can't stop Brexit without a 2nd referendum. \n",
      "If you are a remainer or a Brexiteer, you need… https://t.co/eW53W5EOG6\n",
      "\n",
      "Now we collected 1701 tweets!\n",
      "1701 RT @FinalSayForAll: Rod @Chelt4Europe &amp; his Dutch wife have been together for 30 yrs. They met via a work exchange made possible by the EU.…\n",
      "\n",
      "Now we collected 1801 tweets!\n",
      "1801 RT @mrjamesob: If you’re thinking that voters will desert Johnson after repeatedly being shown proof that he’s lying to them, it’s possible…\n",
      "\n",
      "Now we collected 1901 tweets!\n",
      "1901 RT @davidschneider: Brexit catastrofuck \n",
      "Lied about new hospitals\n",
      "Suppressed Russia report\n",
      "NHS in meltdown\n",
      "Worst A&amp;E waits ever\n",
      "4m kids in…\n",
      "\n",
      "Now we collected 2001 tweets!\n",
      "2001 RT @BradburyMaureen: @Pace1013 @nickreeves9876 PLEASE KEEP RETWEETING:\n",
      "https://t.co/xvLR4FPWQz\n",
      "\n",
      "Now we collected 2101 tweets!\n",
      "2101 RT @anitamassey86: Turns out stripping wallpaper is horrible. I'm only half way through. Is going to be a long night 🤦🏻‍♀️ \n",
      "I blame the tor…\n",
      "\n",
      "Now we collected 2201 tweets!\n",
      "2201 RT @nickreeves9876: If Brexit happens it will be the first time in over 300 years that a hostile foreign power has successfully manipulated…\n",
      "\n",
      "Now we collected 2301 tweets!\n",
      "2301 RT @Hettie_Politics: I’ve never heard such utter bollocks in@my life 😳 https://t.co/YkUvXfAZe6\n",
      "\n",
      "Now we collected 2401 tweets!\n",
      "2401 RT @hollyarigby: Douglas Murray offended I hadn’t read his book for his 3 minute segment on #PoliticsLive😂\n",
      "\n",
      "Also had a DM from Brexit Party…\n",
      "\n",
      "Now we collected 2501 tweets!\n",
      "2501 RT @InFactsOrg: The NHS needs staff. Brexit is driving doctors and nurses away.\n",
      "\n",
      "https://t.co/pifHscevIa #bbcqt\n",
      "\n",
      "Now we collected 2601 tweets!\n",
      "2601 RT @UKdemocrat: This is real. Destroys WTO and any free trade agreements. They just do not exist! https://t.co/FTeGiHCJ9m\n",
      "\n",
      "Now we collected 2701 tweets!\n",
      "2701 #ReinoUnido Jeremy Corbyn: \"Me mantendría neutral en un segundo referéndum sobre el #Brexit\"\n",
      "\n",
      "Vía @ReutersLatam… https://t.co/Q4i01NsRMj\n",
      "\n",
      "Now we collected 2801 tweets!\n",
      "2801 RT @King_COAK: Elneny: ISIS Pirlo, jihadi Jorginho\n",
      "Scholes: albino Joe Allen\n",
      "Vinicius Jr. - Tejuosho Neymar\n",
      "Chris Houghton: malnourished Ob…\n",
      "\n",
      "Now we collected 2901 tweets!\n",
      "2901 You know your parents voted Brexit when they buy these instead of Jubbly's https://t.co/E33MTbdEMA\n",
      "\n",
      "Now we collected 3001 tweets!\n",
      "3001 @AlfredToshLines Same as. Twitter \"suicide\" once Brexit delivered!\n",
      "\n",
      "Now we collected 3101 tweets!\n",
      "3101 RT @jonlis1: We are about to give the most vicious and nationalistic Conservative party in modern history carte blanche to do whatever it w…\n",
      "\n",
      "Now we collected 3201 tweets!\n",
      "3201 @jeremycorbyn Jeremy the way to please everyone on brexit is to negotiate to stay in the eu but only if immigration… https://t.co/qRX0KldYFi\n",
      "\n",
      "Now we collected 3301 tweets!\n",
      "3301 RT @JMPSimor: Please share relentlessly. https://t.co/m7j56IDlIX\n",
      "\n",
      "Now we collected 3401 tweets!\n",
      "3401 @Tararabumdeay0 @Cfergus2019 @thirty2counties @Pogopatterson42 @AlanHol45870796 @murphy20656432 @colum1986… https://t.co/6WjVAKn9xp\n",
      "\n",
      "Now we collected 3501 tweets!\n",
      "3501 https://t.co/KioWxPqAxg come on Boris the country is behind you let's get this done\n",
      "\n",
      "Now we collected 3601 tweets!\n",
      "3601 RT @MorrisonKeir: Compare this callous dismissal to Labour's WASPI policy.\n",
      "\n",
      "How could you even consider voting for this charlatan? https://…\n",
      "\n",
      "Now we collected 3701 tweets!\n",
      "3701 RT @darrengrimes_: This really isn’t good. We’ve got to get out the pro-Brexit vote, or risk losing it altogether. Ushering in a Marxist th…\n",
      "\n",
      "Now we collected 3801 tweets!\n",
      "3801 RT @BrexitFutureUK: Breaking News. The Labour leader @jeremycorbyn has said that whilst he used to be indecisive on Brexit, now he's not so…\n",
      "\n",
      "Now we collected 3901 tweets!\n",
      "3901 RT @MrTopple: So instead of focusing on our PRIME MINISTER refusing to apologise for racist &amp; homophobic comments, @BBCNews run with @jerem…\n",
      "\n",
      "Now we collected 4001 tweets!\n",
      "4001 Liberal Democrats targeting Tory big beasts like Brexiteer Dominic Raab in election campaign, says Jo Swinson\n",
      "https://t.co/9qoimLc8Cy\n",
      "\n",
      "Now we collected 4101 tweets!\n",
      "4101 RT @davidschneider: WHAT MONEY CAN BE MAGICKED UP FOR:\n",
      "£100m on Brexit ads\n",
      "£11m on Brexit 50p’s\n",
      "£8bn on No Deal prep\n",
      "£13.8m to ferry compan…\n",
      "\n",
      "Now we collected 4201 tweets!\n",
      "4201 @DavidClem007 Face it, it’s not going well for you guys. Even the left wing Guardian know it:\n",
      "https://t.co/EvPovXqhHB\n",
      "\n",
      "Now we collected 4301 tweets!\n",
      "4301 RT @ASK_des: Bremoaners ,Remoaners ,Libtards, Snowflakes, every day non stop 😭 crying about Brexit ,Trump, give it a rest were all bored wi…\n",
      "\n",
      "Now we collected 4401 tweets!\n",
      "4401 RT @GoodwinMJ: New.\n",
      "\n",
      "-19 point lead for Conservatives \n",
      "-When does Labour press the panic button?\n",
      "\n",
      "Conservatives 47% (+3)\n",
      "Labour 28% (-)\n",
      "Lib…\n",
      "\n",
      "Now we collected 4501 tweets!\n",
      "4501 RT @GElvidge821860: It's been said for years but really soon, within our lifetime (I'm mid 40s) the inner city urban areas really  will be…\n",
      "\n",
      "Now we collected 4601 tweets!\n",
      "4601 RT @TraceyShephard4: # all brexiteers   we stand United we will stand by our leave  vote come 12th dec and make history the day the British…\n",
      "\n",
      "Now we collected 4701 tweets!\n",
      "4701 @lewis_goodall ...a 2 billion pounds ....pothole fund?\n",
      "That’s their flagship policy, beyond “get Brexit done in a decade”?\n",
      "\n",
      "Now we collected 4801 tweets!\n",
      "4801 @robjeffecology Do we know what the Tory Brexit will cost the country? Where are the impact assessments for all sec… https://t.co/YBEDZPgT2p\n",
      "\n",
      "Now we collected 4901 tweets!\n",
      "4901 RT @davidschneider: Brexit catastrofuck \n",
      "Lied about new hospitals\n",
      "Suppressed Russia report\n",
      "NHS in meltdown\n",
      "Worst A&amp;E waits ever\n",
      "4m kids in…\n"
     ]
    },
    {
     "name": "stdout",
     "output_type": "stream",
     "text": [
      "5000 tweets are collected\n"
     ]
    }
   ],
   "source": [
    "# # start collecting 5000 tweets with keyword\n",
    "#  tweets = collect_tweets(stream, keyword, 5000)\n",
    "# print(len(tweets), 'tweets are collected')"
   ]
  },
  {
   "cell_type": "code",
   "execution_count": 10,
   "metadata": {},
   "outputs": [],
   "source": [
    "# with open('tweet_stream_{}_{}.json'.format(keyword, len(tweets)), 'w') as outfile:\n",
    "#     json.dump(tweets, outfile, indent=4)"
   ]
  },
  {
   "cell_type": "code",
   "execution_count": 40,
   "metadata": {},
   "outputs": [],
   "source": [
    "# Open files \n",
    "with open('tweet_stream_Brexit_5000.json') as infile:\n",
    "    brex_data = json.load(infile)\n",
    "    \n",
    "with open('tweet_stream_Boris Johnson_5000.json') as infile:\n",
    "    bj_data = json.load(infile)\n",
    "\n",
    "# Put both datsets into a list for easier handling\n",
    "data = {'brex_data' : brex_data, 'bj_data' : bj_data}"
   ]
  },
  {
   "cell_type": "markdown",
   "metadata": {},
   "source": [
    "### Most popular words with and without stopwords"
   ]
  },
  {
   "cell_type": "markdown",
   "metadata": {},
   "source": [
    "Structure taken from https://developer.twitter.com/en/docs/tweets/data-dictionary/overview/intro-to-tweet-json"
   ]
  },
  {
   "cell_type": "code",
   "execution_count": 280,
   "metadata": {},
   "outputs": [],
   "source": [
    "# Test data set\n",
    "test = data['brex_data'][:50]"
   ]
  },
  {
   "cell_type": "markdown",
   "metadata": {},
   "source": [
    "### Tweet Parser\n",
    "This will parse each tweet and check if it is a quote, retweet, or just a regular tweet.  It will also check to see the status of the relevant text section to see if it is truncated.  If so it will fetch the extended.  Finally it will put all the strings into a list of lists."
   ]
  },
  {
   "cell_type": "code",
   "execution_count": 302,
   "metadata": {},
   "outputs": [],
   "source": [
    "def tweet_text_parse(tweet_json,tweet_list):\n",
    "    \"\"\"\n",
    "    Takes in a twitter API JSON file and an empty list, then finds the longest version of the retweet, \n",
    "    quote, and regular text file.  It will then remove any duplicates among the three and then append\n",
    "    the results to the list.\n",
    "    \"\"\"\n",
    "    for count, x in enumerate(tweet_json):\n",
    "        #Reset Variables\n",
    "        quote = ''\n",
    "        rt = ''\n",
    "        text = ''\n",
    "\n",
    "        # Check if this tweet is a quote\n",
    "        # some tweets include is_quote_status but not quoted_status\n",
    "        if 'is_quote_status' and 'quoted_status' in x.keys():\n",
    "                if x['quoted_status']['truncated']:\n",
    "                    quote = (x['quoted_status']['extended_tweet']['full_text'])\n",
    "                else:\n",
    "                    quote = (x['quoted_status']['text'])\n",
    "\n",
    "        # Check if this tweet is a RT\n",
    "        if 'retweeted_status' in x.keys():\n",
    "            if x['retweeted_status']['truncated']:\n",
    "                rt = (x['retweeted_status']['extended_tweet']['full_text'])\n",
    "            else:\n",
    "                rt = (x['retweeted_status']['text'])\n",
    "        if x['truncated']:\n",
    "            text = (x['extended_tweet']['full_text'])\n",
    "        else:\n",
    "            text = (x['text'])\n",
    "\n",
    "        # Remote Duplicate Text\n",
    "        if quote in text:\n",
    "            quote = ''\n",
    "        if rt in text:\n",
    "            rt = ''\n",
    "        tweet_list.append([quote]+[rt]+[text])"
   ]
  },
  {
   "cell_type": "markdown",
   "metadata": {},
   "source": [
    "### Parse JSON Files and store them as lists of lists"
   ]
  },
  {
   "cell_type": "code",
   "execution_count": 303,
   "metadata": {},
   "outputs": [],
   "source": [
    "tweet_list_brexit = []\n",
    "tweet_list_boris_johnson = []\n",
    "\n",
    "tweet_text_parse(data['brex_data'],tweet_list_brexit)\n",
    "tweet_text_parse(data['bj_data'],tweet_list_boris_johnson)"
   ]
  },
  {
   "cell_type": "markdown",
   "metadata": {},
   "source": [
    "### Split the lists of lists into a list of individual words"
   ]
  },
  {
   "cell_type": "code",
   "execution_count": 353,
   "metadata": {},
   "outputs": [],
   "source": [
    "brexit_words =[]\n",
    "brexit_stopwords = []\n",
    "\n",
    "for tweet in tweet_list_brexit:\n",
    "    for text in tweet:\n",
    "        brexit_words += text.lower().split()\n",
    "\n",
    "for words in brexit_words:\n",
    "    if words not in stopwords and len(words) > 1:\n",
    "        brexit_stopwords.append(words)"
   ]
  },
  {
   "cell_type": "code",
   "execution_count": 354,
   "metadata": {},
   "outputs": [],
   "source": [
    "bj_words =[]\n",
    "bj_stopwords = []\n",
    "\n",
    "for tweet in tweet_list_boris_johnson:\n",
    "    for text in tweet:\n",
    "        bj_words += text.lower().split()\n",
    "\n",
    "for words in bj_words:\n",
    "    if words not in stopwords and len(words) > 1:\n",
    "        bj_stopwords.append(words)"
   ]
  },
  {
   "cell_type": "markdown",
   "metadata": {},
   "source": [
    "### Word frequency "
   ]
  },
  {
   "cell_type": "code",
   "execution_count": 355,
   "metadata": {},
   "outputs": [
    {
     "data": {
      "image/png": "[encoded data removed]",
      "text/plain": [
       "<Figure size 432x288 with 1 Axes>"
      ]
     },
     "metadata": {
      "needs_background": "light"
     },
     "output_type": "display_data"
    }
   ],
   "source": [
    "# Brexit word frequency\n",
    "freq = nltk.FreqDist(brexit_words)\n",
    "freq.plot(10)"
   ]
  },
  {
   "cell_type": "code",
   "execution_count": 356,
   "metadata": {},
   "outputs": [
    {
     "data": {
      "image/png": "[encoded data removed]",
      "text/plain": [
       "<Figure size 432x288 with 1 Axes>"
      ]
     },
     "metadata": {
      "needs_background": "light"
     },
     "output_type": "display_data"
    }
   ],
   "source": [
    "# Brexit word frequency without stopwords\n",
    "freq = nltk.FreqDist(brexit_stopwords)\n",
    "freq.plot(10)"
   ]
  },
  {
   "cell_type": "code",
   "execution_count": 357,
   "metadata": {},
   "outputs": [
    {
     "data": {
      "image/png": "[encoded data removed]",
      "text/plain": [
       "<Figure size 432x288 with 1 Axes>"
      ]
     },
     "metadata": {
      "needs_background": "light"
     },
     "output_type": "display_data"
    }
   ],
   "source": [
    "# Boris Johnson word frequency with stopwords\n",
    "freq = nltk.FreqDist(bj_words)\n",
    "freq.plot(10)"
   ]
  },
  {
   "cell_type": "code",
   "execution_count": 358,
   "metadata": {},
   "outputs": [
    {
     "data": {
      "image/png": "[encoded data removed]",
      "text/plain": [
       "<Figure size 432x288 with 1 Axes>"
      ]
     },
     "metadata": {
      "needs_background": "light"
     },
     "output_type": "display_data"
    }
   ],
   "source": [
    "# Boris Johnson word frequency without stopwords\n",
    "freq = nltk.FreqDist(bj_stopwords)\n",
    "freq.plot(10)"
   ]
  },
  {
   "cell_type": "markdown",
   "metadata": {},
   "source": [
    "### Hashtags + Mentions"
   ]
  },
  {
   "cell_type": "code",
   "execution_count": 365,
   "metadata": {},
   "outputs": [],
   "source": [
    "brexit_hashtag_count = []\n",
    "brexit_mention_list = []\n",
    "for x, y in enumerate(data['brex_data']):\n",
    "    hashtag = data['brex_data'][x]['entities']['hashtags']\n",
    "    if len(hashtag) > 0:\n",
    "        brexit_hashtag_count.append(hashtag[0]['text'])\n",
    "    mentions = data['brex_data'][x]['entities']['user_mentions']\n",
    "    for ment in mentions:\n",
    "        brexit_mention_list.append(ment['screen_name'])\n",
    "\n",
    "\n",
    "bj_hashtag_count = []\n",
    "bj_mention_list =[] \n",
    "for x, y in enumerate(data['bj_data']):\n",
    "    hashtag = data['bj_data'][x]['entities']['hashtags']\n",
    "    if len(hashtag) > 0:\n",
    "        bj_hashtag_count.append(hashtag[0]['text'])\n",
    "    mentions = data['bj_data'][x]['entities']['user_mentions']\n",
    "    for ment in mentions:\n",
    "        bj_mention_list.append(ment['screen_name'])"
   ]
  },
  {
   "cell_type": "markdown",
   "metadata": {},
   "source": [
    "### Brexit Hashtags"
   ]
  },
  {
   "cell_type": "code",
   "execution_count": 363,
   "metadata": {},
   "outputs": [
    {
     "data": {
      "text/plain": [
       "[('Brexit', 105),\n",
       " ('brexit', 35),\n",
       " ('GE2019', 22),\n",
       " ('GetBrexitDone', 21),\n",
       " ('JeremyCorbyn', 16),\n",
       " ('Remain', 16),\n",
       " ('StopBrexit', 15),\n",
       " ('Russia', 13),\n",
       " ('CostOfCorbyn', 11),\n",
       " ('bbcqt', 11)]"
      ]
     },
     "execution_count": 363,
     "metadata": {},
     "output_type": "execute_result"
    }
   ],
   "source": [
    "ht = Counter(brexit_hashtag_count)\n",
    "ht.most_common(10)"
   ]
  },
  {
   "cell_type": "markdown",
   "metadata": {},
   "source": [
    "### Boris Johnson Hashtags"
   ]
  },
  {
   "cell_type": "code",
   "execution_count": 364,
   "metadata": {},
   "outputs": [
    {
     "data": {
      "text/plain": [
       "[('bbcqt', 233),\n",
       " ('GE2019', 36),\n",
       " ('Exeter', 34),\n",
       " ('GTTO', 27),\n",
       " ('ge2019', 24),\n",
       " ('WASPI', 20),\n",
       " ('GetJohnsonOut', 19),\n",
       " ('FactCheckuk', 17),\n",
       " ('BigBrother', 10),\n",
       " ('NHSNotforSale', 10)]"
      ]
     },
     "execution_count": 364,
     "metadata": {},
     "output_type": "execute_result"
    }
   ],
   "source": [
    "ht = Counter(bj_hashtag_count)\n",
    "ht.most_common(10)"
   ]
  },
  {
   "cell_type": "markdown",
   "metadata": {},
   "source": [
    "### "
   ]
  }
 ],
 "metadata": {
  "kernelspec": {
   "display_name": "Python 3",
   "language": "python",
   "name": "python3"
  },
  "language_info": {
   "codemirror_mode": {
    "name": "ipython",
    "version": 3
   },
   "file_extension": ".py",
   "mimetype": "text/x-python",
   "name": "python",
   "nbconvert_exporter": "python",
   "pygments_lexer": "ipython3",
   "version": "3.7.0"
  }
 },
 "nbformat": 4,
 "nbformat_minor": 2
}
